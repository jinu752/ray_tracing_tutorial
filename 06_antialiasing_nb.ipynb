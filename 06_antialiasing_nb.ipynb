{
 "cells": [
  {
   "attachments": {},
   "cell_type": "markdown",
   "metadata": {},
   "source": [
    "# 06 Antialiasing - Numpy broadcasting\n",
    "\n",
    "* 기존 예제에서 for loop을 제거하고 Numpy의 broadcasting을 이용하여 가속한 예제입니다.\n",
    "* GPU를 사용하는 Pytorch 등으로 쉽게 치환할 수 있고 더욱 빨라집니다."
   ]
  },
  {
   "cell_type": "code",
   "execution_count": 1,
   "metadata": {},
   "outputs": [],
   "source": [
    "from __future__ import annotations\n",
    "\n",
    "from typing import List\n",
    "import sys\n",
    "\n",
    "import numpy as np\n",
    "import numpy.linalg as LA\n",
    "\n",
    "import matplotlib.pyplot as plt\n",
    "\n",
    "infinity = sys.float_info.max"
   ]
  },
  {
   "cell_type": "markdown",
   "metadata": {},
   "source": [
    "normalize_color가 추가된 것 외에는 이전의 구현과 동일합니다."
   ]
  },
  {
   "cell_type": "code",
   "execution_count": 2,
   "metadata": {},
   "outputs": [],
   "source": [
    "def normalize(vec: np.array, eps: float = 1e-6):\n",
    "    return vec / (LA.norm(vec, axis=-1, keepdims=True) + eps)\n",
    "\n",
    "\n",
    "def blend(color1: np.array, color2: np.array, t_map: np.array):\n",
    "    return (1.0 - t_map) * color1 + t_map * color2\n",
    "\n",
    "\n",
    "def dot(v1: np.array, v2: np.array) -> np.array:\n",
    "    return np.sum(v1 * v2, axis=-1, keepdims=True)\n",
    "\n",
    "\n",
    "def normalize_color(image: np.array, samples_per_pixel: int):\n",
    "    # divide the color by the number of samples.\n",
    "    scale = 1.0 / samples_per_pixel\n",
    "    return scale * image"
   ]
  },
  {
   "cell_type": "code",
   "execution_count": 3,
   "metadata": {},
   "outputs": [],
   "source": [
    "class Ray:\n",
    "    def __init__(self, origin: np.array, direction_map: np.array) -> None:\n",
    "        self.origin = origin\n",
    "        self.direction_map = normalize(direction_map)\n",
    "        self.height, self.width = self.direction_map.shape[:2]\n",
    "\n",
    "    def at(self, t_map: np.array) -> np.array:\n",
    "        return self.origin + t_map * self.direction_map"
   ]
  },
  {
   "cell_type": "code",
   "execution_count": 4,
   "metadata": {},
   "outputs": [],
   "source": [
    "class HitRecord:\n",
    "    def __init__(\n",
    "        self,\n",
    "        point_map: np.array,\n",
    "        normal_map: np.array,\n",
    "        t_map: np.array,\n",
    "        valid_map: np.array,\n",
    "    ) -> None:\n",
    "        self.point_map = point_map\n",
    "        self.normal_map = normal_map\n",
    "        self.t_map = t_map\n",
    "        self.valid_map = valid_map\n",
    "\n",
    "    def set_face_normal(self, ray: Ray, outward_normal_map: np.array) -> None:\n",
    "        is_front_face = dot(ray.direction_map, outward_normal_map) < 0.0\n",
    "        self.normal_map = np.where(\n",
    "            is_front_face, outward_normal_map, -outward_normal_map\n",
    "        )\n",
    "\n",
    "    def update(self, other: HitRecord) -> None:\n",
    "        self.point_map = np.where(other.valid_map, other.point_map, self.point_map)\n",
    "        self.normal_map = np.where(other.valid_map, other.normal_map, self.normal_map)\n",
    "        self.t_map = np.where(other.valid_map, other.t_map, self.t_map)\n",
    "        self.valid_map = np.where(other.valid_map, other.valid_map, self.valid_map)"
   ]
  },
  {
   "cell_type": "code",
   "execution_count": 5,
   "metadata": {},
   "outputs": [],
   "source": [
    "class Hittable:\n",
    "    def hit(self, ray: Ray, t_min_map: float, t_max_map: float) -> HitRecord:\n",
    "        raise NotImplementedError"
   ]
  },
  {
   "cell_type": "code",
   "execution_count": 6,
   "metadata": {},
   "outputs": [],
   "source": [
    "class Sphere(Hittable):\n",
    "    def __init__(self) -> None:\n",
    "        self.center = np.zeros(3)\n",
    "        self.radius = 1.0\n",
    "\n",
    "    def __init__(self, center: np.array, radius: float) -> None:\n",
    "        self.center = center\n",
    "        self.radius = radius\n",
    "\n",
    "    def hit(self, ray: Ray, t_min_map: float, t_max_map: float) -> bool:\n",
    "        dir_center_to_origin = ray.origin - self.center\n",
    "\n",
    "        a_map = dot(ray.direction_map, ray.direction_map)\n",
    "        half_b_map = dot(dir_center_to_origin, ray.direction_map)\n",
    "        c_map = dot(dir_center_to_origin, dir_center_to_origin) - self.radius**2.0\n",
    "\n",
    "        discriminant_map = half_b_map**2 - a_map * c_map\n",
    "        cond_discriminant = discriminant_map >= 0.0\n",
    "\n",
    "        safe_discriminant_map = np.where(cond_discriminant, discriminant_map, 0.0)\n",
    "\n",
    "        sqrt_d_map = np.sqrt(safe_discriminant_map)\n",
    "\n",
    "        # find the nearest root that lies in the acceptable range.\n",
    "        t_map1 = (-half_b_map - sqrt_d_map) / a_map\n",
    "        cond1 = np.logical_and(t_min_map <= t_map1, t_map1 <= t_max_map)\n",
    "        t_map2 = (-half_b_map + sqrt_d_map) / a_map\n",
    "        cond2 = np.logical_and(t_min_map <= t_map2, t_map2 <= t_max_map)\n",
    "\n",
    "        valid_map = np.logical_and(cond_discriminant, np.logical_or(cond1, cond2))\n",
    "\n",
    "        t_map = np.where(cond1, t_map1, t_map2)\n",
    "\n",
    "        point_map = ray.at(t_map)\n",
    "        outward_normal_map = (point_map - self.center) / self.radius\n",
    "        hit_record = HitRecord(\n",
    "            point_map=point_map,\n",
    "            normal_map=outward_normal_map,\n",
    "            t_map=t_map,\n",
    "            valid_map=valid_map,\n",
    "        )\n",
    "        hit_record.set_face_normal(ray=ray, outward_normal_map=outward_normal_map)\n",
    "        return hit_record"
   ]
  },
  {
   "cell_type": "code",
   "execution_count": 7,
   "metadata": {},
   "outputs": [],
   "source": [
    "class HittableList(Hittable):\n",
    "    def __init__(self) -> None:\n",
    "        self.objects: List[Hittable] = []\n",
    "\n",
    "    def clear(self) -> None:\n",
    "        self.objects.clear()\n",
    "\n",
    "    def add(self, object: Hittable) -> None:\n",
    "        self.objects.append(object)\n",
    "\n",
    "    def hit(self, ray: Ray, t_min_map: float, t_max_map: float) -> HitRecord:\n",
    "        record = None\n",
    "        closest_so_far_map = t_max_map\n",
    "\n",
    "        for object in self.objects:\n",
    "            tmp_record = object.hit(\n",
    "                ray=ray, t_min_map=t_min_map, t_max_map=closest_so_far_map\n",
    "            )\n",
    "            closest_so_far_map = np.where(\n",
    "                tmp_record.valid_map, tmp_record.t_map, closest_so_far_map\n",
    "            )\n",
    "            if record is None:\n",
    "                record = tmp_record\n",
    "            else:\n",
    "                record.update(tmp_record)\n",
    "\n",
    "        return record"
   ]
  },
  {
   "cell_type": "markdown",
   "metadata": {},
   "source": [
    "일반 구현과 동일하게 Camera 클래스를 새로 추가했습니다."
   ]
  },
  {
   "cell_type": "code",
   "execution_count": 8,
   "metadata": {},
   "outputs": [],
   "source": [
    "class Camera:\n",
    "    def __init__(self) -> None:\n",
    "        self.aspect_ratio = 16.0 / 9.0\n",
    "        self.viewport_height = 2.0\n",
    "        self.viewport_width = self.aspect_ratio * self.viewport_height\n",
    "        self.focal_length = 1.0\n",
    "\n",
    "        self.origin = np.array([0.0, 0.0, 0.0])\n",
    "        self.horizontal_vec = np.array([self.viewport_width, 0.0, 0.0])\n",
    "        self.vertical_vec = np.array([0.0, self.viewport_height, 0.0])\n",
    "        self.frontal_vec = np.array([0.0, 0.0, self.focal_length])\n",
    "        self.lower_left_corner = (\n",
    "            self.origin\n",
    "            - self.horizontal_vec / 2.0\n",
    "            - self.vertical_vec / 2.0\n",
    "            - self.frontal_vec\n",
    "        )\n",
    "\n",
    "    def get_ray(self, u_map: float, v_map: float) -> Ray:\n",
    "        return Ray(\n",
    "            origin=self.origin,\n",
    "            direction_map=(\n",
    "                self.lower_left_corner\n",
    "                + u_map * self.horizontal_vec\n",
    "                + v_map * self.vertical_vec\n",
    "            )\n",
    "            - self.origin,\n",
    "        )"
   ]
  },
  {
   "cell_type": "code",
   "execution_count": 9,
   "metadata": {},
   "outputs": [],
   "source": [
    "def ray_color(ray: Ray, world: Hittable) -> np.array:\n",
    "    record = world.hit(ray=ray, t_min_map=0, t_max_map=infinity)\n",
    "\n",
    "    world_color = 0.5 * (record.normal_map + 1.0)\n",
    "\n",
    "    t_map = 0.5 * (ray.direction_map[..., 1:2] + 1.0)\n",
    "    color1 = np.array([1.0, 1.0, 1.0])\n",
    "    color2 = np.array([0.5, 0.7, 1.0])\n",
    "    background_color = blend(color1=color1, color2=color2, t_map=t_map)\n",
    "\n",
    "    return np.where(record.valid_map, world_color, background_color)"
   ]
  },
  {
   "cell_type": "code",
   "execution_count": 10,
   "metadata": {},
   "outputs": [],
   "source": [
    "# image\n",
    "aspect_ratio = 16.0 / 9.0\n",
    "image_width = 320\n",
    "image_height = int(image_width / aspect_ratio)\n",
    "samples_per_pixel = 10"
   ]
  },
  {
   "cell_type": "code",
   "execution_count": 11,
   "metadata": {},
   "outputs": [],
   "source": [
    "# world\n",
    "world = HittableList()\n",
    "world.add(Sphere(center=np.array([0.0, 0.0, -1.0]), radius=0.5))\n",
    "world.add(Sphere(center=np.array([0.0, -100.5, -1.0]), radius=100.0))"
   ]
  },
  {
   "cell_type": "code",
   "execution_count": 12,
   "metadata": {},
   "outputs": [],
   "source": [
    "camera = Camera()"
   ]
  },
  {
   "cell_type": "markdown",
   "metadata": {},
   "source": [
    "u_map과 v_map에 새로운 차원을 추가합니다.\n",
    "* u_map과 v_map의 shape는 (image_height x image_width x samples_per_pixel x 1)입니다.\n",
    "* color_map의 세번째 차원은 픽셀당 sample의 갯수를 의미합니다.\n",
    "* 계산의 편의를 위해 색상의 차원은 마지막 차원으로 유지합니다. \n",
    "\n",
    "<center>\n",
    "<img src=\"./images/color_map_dim.png\" width=\"300px\" title=\"color_map_dimension\"/>\n",
    "</center>\n",
    "\n",
    "색상을 계산하고 나서 sum으로 samples_per_pixel 차원을 줄이면서 누적합니다."
   ]
  },
  {
   "cell_type": "code",
   "execution_count": 13,
   "metadata": {},
   "outputs": [
    {
     "name": "stdout",
     "output_type": "stream",
     "text": [
      "CPU times: total: 312 ms\n",
      "Wall time: 325 ms\n"
     ]
    }
   ],
   "source": [
    "%%time\n",
    "\n",
    "us = np.linspace(start=0.0, stop=1.0, num=image_width)\n",
    "vs = np.linspace(start=0.0, stop=1.0, num=image_height)\n",
    "u_map, v_map = np.meshgrid(us, vs, indexing=\"xy\")\n",
    "u_map = u_map[..., np.newaxis, np.newaxis]\n",
    "v_map = v_map[..., np.newaxis, np.newaxis]\n",
    "\n",
    "u_jitter = np.random.uniform(low=-0.5/image_width, high=0.5/image_width, \n",
    "                             size=[image_height, image_width, samples_per_pixel, 1])\n",
    "v_jitter = np.random.uniform(low=-0.5/image_height, high=0.5/image_height, \n",
    "                             size=[image_height, image_width, samples_per_pixel, 1])\n",
    "\n",
    "u_map = u_map + u_jitter\n",
    "v_map = v_map + v_jitter\n",
    "ray = camera.get_ray(u_map=u_map, v_map=v_map)     \n",
    "\n",
    "color_map = ray_color(ray=ray, world=world)  \n",
    "color_map = np.sum(color_map, axis=2)\n",
    "image = normalize_color(color_map, samples_per_pixel=samples_per_pixel)"
   ]
  },
  {
   "cell_type": "markdown",
   "metadata": {},
   "source": [
    "이번 챕터부터 일반 구현과의 속도 차이가 더욱 커집니다."
   ]
  },
  {
   "cell_type": "code",
   "execution_count": 14,
   "metadata": {},
   "outputs": [
    {
     "data": {
      "image/png": "[encoded data removed]",
      "text/plain": [
       "<Figure size 640x480 with 1 Axes>"
      ]
     },
     "metadata": {},
     "output_type": "display_data"
    }
   ],
   "source": [
    "plt.imshow(image, origin=\"lower\")\n",
    "plt.show()"
   ]
  },
  {
   "cell_type": "code",
   "execution_count": null,
   "metadata": {},
   "outputs": [],
   "source": []
  }
 ],
 "metadata": {
  "kernelspec": {
   "display_name": "Python 3 (ipykernel)",
   "language": "python",
   "name": "python3"
  },
  "language_info": {
   "codemirror_mode": {
    "name": "ipython",
    "version": 3
   },
   "file_extension": ".py",
   "mimetype": "text/x-python",
   "name": "python",
   "nbconvert_exporter": "python",
   "pygments_lexer": "ipython3",
   "version": "3.12.4"
  }
 },
 "nbformat": 4,
 "nbformat_minor": 4
}
