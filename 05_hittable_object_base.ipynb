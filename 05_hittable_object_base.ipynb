{
 "cells": [
  {
   "attachments": {},
   "cell_type": "markdown",
   "metadata": {},
   "source": [
    "# 05 Hittable object\n",
    "\n",
    "* 장면에 두 개의 구를 배치하고 ray가 어느 구와 먼저 만나는지 확인합니다."
   ]
  },
  {
   "cell_type": "code",
   "execution_count": 14,
   "metadata": {},
   "outputs": [],
   "source": [
    "from __future__ import annotations\n",
    "from typing import List\n",
    "import sys\n",
    "\n",
    "import numpy as np\n",
    "import numpy.linalg as LA\n",
    "import matplotlib.pyplot as plt\n",
    "\n",
    "infinity = sys.float_info.max"
   ]
  },
  {
   "cell_type": "code",
   "execution_count": 15,
   "metadata": {},
   "outputs": [],
   "source": [
    "def normalize(vec: np.array, eps: float = 1e-6):\n",
    "    return vec / (LA.norm(vec) + eps)\n",
    "\n",
    "\n",
    "def blend(color1: np.array, color2: np.array, t: float):\n",
    "    return (1.0 - t) * color1 + t * color2"
   ]
  },
  {
   "cell_type": "code",
   "execution_count": 16,
   "metadata": {},
   "outputs": [],
   "source": [
    "class Ray:\n",
    "    def __init__(self, origin: np.array, direction: np.array) -> None:\n",
    "        self.origin: np.array = origin\n",
    "        self.direction: np.array = normalize(direction)\n",
    "\n",
    "    def at(self, t: float) -> np.array:\n",
    "        return self.origin + t * self.direction"
   ]
  },
  {
   "attachments": {},
   "cell_type": "markdown",
   "metadata": {},
   "source": [
    "### Hittable과 HitRecord\n",
    "두 개 이상의 구가 장면에 있는 상황을 위해 Hittable과 HitRecord 클래스를 정의합니다.\n",
    "* Hittable\n",
    "    * Hittable은 미구현된 hit 함수를 갖는 인터페이스 클래스입니다.\n",
    "    * 장면에 배치하는 물체들은 Hittable을 상속받아 hit 함수를 정의해야 합니다.\n",
    "    * hit 함수는 ray와 ray가 진행 가능한 범위인 t_min, t_max를 입력으로 받아 두 가지를 확인합니다.\n",
    "        * ray가 물체와 만나는지 확인합니다.\n",
    "        * ray가 물체와 만난다면 만나는 지점이 t_min, t_max의 중간에 있는지 확인합니다.\n",
    "        * 위의 조건이 통과하면 HitRecord를 생성해 반환합니다.\n",
    "* HitRecord\n",
    "    * Ray가 물체와 만난 지점의 위치와 해당 위치의 법선 벡터, 그리고 ray가 진행한 거리 t를 저장합니다.\n",
    "\n",
    "### 도형 표면의 법선 벡터\n",
    "\n",
    "<center>\n",
    "<img src=\"./images/normal_sides.png\" width=\"400px\" title=\"normal_sides\"/>\n",
    "</center>\n",
    "\n",
    "* ray는 도형의 바깥쪽이나 안쪽에서 도형의 표면과 만날 수 있습니다.    \n",
    "* 물체의 재질에 따라서 도형 바깥쪽 또는 안쪽으로 향하는 법선 벡터를 필요로 합니다.\n",
    "    * 투명한 구슬 또는 양면이 인쇄된 종이\n",
    "* 여기서는 표면의 법선 벡터가 ray 가 온 방향으로 향하도록 계산합니다.\n",
    "    * 기본적으로 도형은 도형의 바깥쪽으로 향하는 법선 벡터을 가지고 있습니다.\n",
    "    * ray와 표면 법선 벡터의 내적 값이 + 면 도형 바깥쪽에 만난 상황으로 도형이 가지고 있는 법선 벡터를 반환합니다. \n",
    "    * ray와 표면 법선 벡터의 내적 값이 - 면 도형 안쪽에 만난 상황으로 도형이 가지고 있는 법선 벡터를 뒤집어서 반환합니다. \n",
    "\n",
    "### 두 방향 벡터의 내적\n",
    "\n",
    "<center>\n",
    "<img src=\"./images/directions.png\" width=\"300px\" title=\"directions\"/>\n",
    "</center>\n",
    "\n",
    "* 두 방향 벡터의 내적 값은 방향에 따라 부호가 결정됩니다.\n",
    "    * 위 그림의 모든 벡터는 단위 벡터라고 가정합니다.\n",
    "    * dot(a, a) = +1.0 # 두 벡터의 방향이 같은 경우\n",
    "    * dot(a, b) = +\n",
    "    * dot(a, c) = 0.0 # 두 벡터가 서로 직교하는 같은 경우\n",
    "    * dot(a, d) = -\n",
    "    * dot(a, e) = -1.0 # 두 벡터의 방향이 서로 반대인 경우\n"
   ]
  },
  {
   "cell_type": "code",
   "execution_count": 17,
   "metadata": {},
   "outputs": [],
   "source": [
    "class HitRecord:\n",
    "    def __init__(self, point: np.array, normal: np.array, t: float) -> None:\n",
    "        self.point = point\n",
    "        self.normal = normal\n",
    "        self.t = t\n",
    "\n",
    "    def set_face_normal(self, ray: Ray, outward_normal: np.array) -> None:\n",
    "        # if the ray hits the inside of the shape, it flips the outward normal.\n",
    "        is_front_face = np.dot(ray.direction, outward_normal) < 0\n",
    "        self.normal = outward_normal if is_front_face else -outward_normal"
   ]
  },
  {
   "cell_type": "code",
   "execution_count": 18,
   "metadata": {},
   "outputs": [],
   "source": [
    "class Hittable:\n",
    "    def hit(self, ray: Ray, t_min: float, t_max: float) -> HitRecord:\n",
    "        raise NotImplementedError"
   ]
  },
  {
   "cell_type": "code",
   "execution_count": 19,
   "metadata": {},
   "outputs": [],
   "source": [
    "class Sphere(Hittable):\n",
    "    def __init__(self) -> None:\n",
    "        self.center = np.zeros(3)\n",
    "        self.radius = 1.0\n",
    "\n",
    "    def __init__(self, center: np.array, radius: float) -> None:\n",
    "        self.center = center\n",
    "        self.radius = radius\n",
    "\n",
    "    def hit(self, ray: Ray, t_min: float, t_max: float) -> HitRecord:\n",
    "        dir_center_to_origin = ray.origin - self.center\n",
    "\n",
    "        a = np.dot(ray.direction, ray.direction)\n",
    "        half_b = np.dot(dir_center_to_origin, ray.direction)\n",
    "        c = np.dot(dir_center_to_origin, dir_center_to_origin) - self.radius**2.0\n",
    "\n",
    "        discriminant = half_b**2 - a * c\n",
    "        if discriminant < 0:\n",
    "            return None\n",
    "        sqrt_d = np.sqrt(discriminant)\n",
    "\n",
    "        # find the nearest root that lies in the acceptable range.\n",
    "        t = (-half_b - sqrt_d) / a\n",
    "        if t < t_min or t_max < t:\n",
    "            t = (-half_b + sqrt_d) / a\n",
    "            if t < t_min or t_max < t:\n",
    "                return None\n",
    "\n",
    "        point = ray.at(t)\n",
    "        outward_normal = (point - self.center) / self.radius\n",
    "        hit_record = HitRecord(point=point, normal=outward_normal, t=t)\n",
    "        hit_record.set_face_normal(ray=ray, outward_normal=outward_normal)\n",
    "\n",
    "        return hit_record"
   ]
  },
  {
   "cell_type": "markdown",
   "metadata": {},
   "source": [
    "HittableList는 장면을 나타내는 클래스 입니다.\n",
    "* Hittable들을 담을 수 있는 컨테이너 이면서 Hittable 클래스입니다.\n",
    "    * 장면을 재귀적으로 구현합니다.\n",
    "* hit 함수로 주어진 ray와 담고 있는 Hittable 물체들이 만나는지 확인 합니다.\n",
    "* Ray가 물체와 부딪혔을 때의 t로 물체를 필터링해서 가장 가까운 시점에서 가장 가까운 물체의 HitRecord만 남깁니다.\n",
    "\n",
    "### Hit 테스트 케이스\n",
    "* Ray 시작점에서 가까운 물체를 먼저 테스트 하고 먼 물체를 나중에 테스트 하는 경우입니다.\n",
    "    * Ray의 t_max가 가까운 물체와 만나는 지점으로 설정됩니다.\n",
    "    * Ray의 t_max가 먼 물체와 만날 수 없는 거리로 설정되었기 때문에 먼 물체와의 테스트는 실패합니다.\n",
    "\n",
    "<center>\n",
    "<img src=\"./images/hit_1_1.png\" width=\"300px\" title=\"hit_case_1_1\"/>\n",
    "</center>\n",
    "<center>\n",
    "<img src=\"./images/hit_1_2.png\" width=\"300px\" title=\"hit_case_1_2\"/>\n",
    "</center>\n",
    "\n",
    "* Ray 시작점에서 먼 물체를 먼저 테스트하고 가까운 물체를 나중에 테스트 하는 경우입니다.\n",
    "    * Ray의 t_max가 먼 물체와 만나는 지점으로 설정됩니다.\n",
    "    * Ray의 t_max가 층분히 먼 거리로 설정되었기 때문에 가까운 물체와의 테스트를 통과합니다.\n",
    "\n",
    "<center>\n",
    "<img src=\"./images/hit_2_1.png\" width=\"300px\" title=\"hit_case_2_1\"/>\n",
    "</center>\n",
    "<center>\n",
    "<img src=\"./images/hit_2_2.png\" width=\"300px\" title=\"hit_case_2_2\"/>\n",
    "</center>"
   ]
  },
  {
   "cell_type": "code",
   "execution_count": 20,
   "metadata": {},
   "outputs": [],
   "source": [
    "class HittableList(Hittable):\n",
    "    def __init__(self) -> None:\n",
    "        self.objects: List[Hittable] = []\n",
    "\n",
    "    def clear(self) -> None:\n",
    "        self.objects.clear()\n",
    "\n",
    "    def add(self, object: Hittable) -> None:\n",
    "        self.objects.append(object)\n",
    "\n",
    "    def hit(self, ray: Ray, t_min: float, t_max: float) -> HitRecord:\n",
    "        record = None\n",
    "        closest_so_far = t_max\n",
    "\n",
    "        for object in self.objects:\n",
    "            tmp_record = object.hit(ray=ray, t_min=t_min, t_max=closest_so_far)\n",
    "            if tmp_record is not None:\n",
    "                closest_so_far = tmp_record.t\n",
    "                record = tmp_record\n",
    "\n",
    "        return record"
   ]
  },
  {
   "cell_type": "code",
   "execution_count": 21,
   "metadata": {},
   "outputs": [],
   "source": [
    "def ray_color(ray: Ray, world: Hittable) -> np.array:\n",
    "    color = np.ones(3)\n",
    "    record = world.hit(ray=ray, t_min=0.0, t_max=infinity)\n",
    "    if record is not None:\n",
    "        return 0.5 * (record.normal + color)\n",
    "\n",
    "    t = 0.5 * (ray.direction[1] + 1.0)\n",
    "    color1 = np.array([1.0, 1.0, 1.0])\n",
    "    color2 = np.array([0.5, 0.7, 1.0])\n",
    "    return blend(color1=color1, color2=color2, t=t)"
   ]
  },
  {
   "cell_type": "code",
   "execution_count": 22,
   "metadata": {},
   "outputs": [],
   "source": [
    "# image\n",
    "aspect_ratio = 16.0 / 9.0\n",
    "image_width = 320\n",
    "image_height = int(image_width / aspect_ratio)\n",
    "\n",
    "image = np.zeros([image_height, image_width, 3])"
   ]
  },
  {
   "cell_type": "markdown",
   "metadata": {},
   "source": [
    "장면을 HittableList를 이용해 구성합니다.\n",
    "* 이전 챕터에서 사용했던 중앙의 구와 바닥을 나타내기 위해 큰 구를 추가합니다."
   ]
  },
  {
   "cell_type": "code",
   "execution_count": 23,
   "metadata": {},
   "outputs": [],
   "source": [
    "# world\n",
    "world = HittableList()\n",
    "world.add(Sphere(center=np.array([0.0, 0.0, -1.0]), radius=0.5))\n",
    "world.add(Sphere(center=np.array([0.0, -100.5, -1.0]), radius=100.0))"
   ]
  },
  {
   "cell_type": "code",
   "execution_count": 24,
   "metadata": {},
   "outputs": [],
   "source": [
    "# camera\n",
    "viewport_height = 2.0\n",
    "viewport_width = aspect_ratio * viewport_height\n",
    "focal_length = 1.0\n",
    "\n",
    "camera_origin = np.array([0.0, 0.0, 0.0])\n",
    "horizontal_vec = np.array([viewport_width, 0.0, 0.0])\n",
    "vertical_vec = np.array([0.0, viewport_height, 0.0])\n",
    "frontal_vec = np.array([0.0, 0.0, focal_length])\n",
    "lower_left_corner = (\n",
    "    camera_origin - horizontal_vec / 2.0 - vertical_vec / 2.0 - frontal_vec\n",
    ")"
   ]
  },
  {
   "cell_type": "code",
   "execution_count": 25,
   "metadata": {},
   "outputs": [
    {
     "name": "stdout",
     "output_type": "stream",
     "text": [
      "CPU times: total: 1.27 s\n",
      "Wall time: 1.26 s\n"
     ]
    }
   ],
   "source": [
    "%%time\n",
    "\n",
    "for row in range(image_height):\n",
    "  for col in range(image_width):\n",
    "    u = float(col) / (image_width - 1)\n",
    "    v = float(row) / (image_height - 1)\n",
    "\n",
    "    ray = Ray(origin=camera_origin,\n",
    "              direction=(lower_left_corner + u*horizontal_vec + v*vertical_vec) - camera_origin)\n",
    "        \n",
    "    image[row, col] = ray_color(ray=ray, world=world)"
   ]
  },
  {
   "cell_type": "markdown",
   "metadata": {},
   "source": [
    "지름이 큰 구가 배경으로 바닥을 만들었습니다.\n",
    "* 시점에서 두 구가 겹치는 부분이 시점에서의 거리에 따라 가려지는 것을 볼 수 있습니다."
   ]
  },
  {
   "cell_type": "code",
   "execution_count": 26,
   "metadata": {},
   "outputs": [
    {
     "data": {
      "image/png": "[encoded data removed]",
      "text/plain": [
       "<Figure size 640x480 with 1 Axes>"
      ]
     },
     "metadata": {},
     "output_type": "display_data"
    }
   ],
   "source": [
    "plt.imshow(image, origin='lower')\n",
    "plt.show()"
   ]
  },
  {
   "cell_type": "code",
   "execution_count": null,
   "metadata": {},
   "outputs": [],
   "source": []
  }
 ],
 "metadata": {
  "kernelspec": {
   "display_name": "Python 3 (ipykernel)",
   "language": "python",
   "name": "python3"
  },
  "language_info": {
   "codemirror_mode": {
    "name": "ipython",
    "version": 3
   },
   "file_extension": ".py",
   "mimetype": "text/x-python",
   "name": "python",
   "nbconvert_exporter": "python",
   "pygments_lexer": "ipython3",
   "version": "3.12.4"
  }
 },
 "nbformat": 4,
 "nbformat_minor": 4
}
