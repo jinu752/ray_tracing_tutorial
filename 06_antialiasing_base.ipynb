{
 "cells": [
  {
   "attachments": {},
   "cell_type": "markdown",
   "metadata": {},
   "source": [
    "# 06 Antialiasing\n",
    "\n",
    "* 하나의 픽셀 별로 여러 ray를 쏘고 blending해서 영상의 aliasing을 줄입니다."
   ]
  },
  {
   "cell_type": "markdown",
   "metadata": {},
   "source": [
    "# Aliasing\n",
    "\n",
    "Aliasing은 이미지에서 물체의 경계 부분에서 일직선으로 그려져야 할 부분이 계단 형태로 지그재그로 그려지는 현상입니다.\n",
    "이전 챕터들의 결과에서도 확인할 수 있습니다.\n",
    "\n",
    "<center>\n",
    "<img src=\"./images/aliasing.png\" width=\"700px\" title=\"aliasing\"/>\n",
    "</center>\n",
    "\n",
    "Aliasing은 신호 처리에서 실제 신호의 주기(frequency)보다 샘플링의 주기가 낮을 때 발생합니다. \n",
    "아래 그림처럼 검은색 신호의 주기보다 느린 주기(빨간점)로 샘플링을 해서 신호를 복원하면 빨간 점선처럼 신호가 만들어 집니다.\n",
    "\n",
    "<center>\n",
    "<img src=\"./images/signal.png\" width=\"400px\" title=\"signal\"/>\n",
    "</center>\n",
    "\n",
    "간단하게는 aliasing은 해상도가 낮으면 발생한다고 볼 수 있습니다.\n",
    "\n",
    "## Antialiasing\n",
    "\n",
    "Aliasing 문제를 해결하기 위한 antialiasing에는 주로 샘플링 방법을 사용합니다.\n",
    "여기서는 픽셀마다 샘플링 횟수를 늘리고 값을 평균내는 방식으로 해결합니다."
   ]
  },
  {
   "cell_type": "code",
   "execution_count": 2,
   "metadata": {},
   "outputs": [],
   "source": [
    "from typing import List\n",
    "import sys\n",
    "from tqdm import tqdm\n",
    "\n",
    "import numpy as np\n",
    "import numpy.linalg as LA\n",
    "\n",
    "import matplotlib.pyplot as plt\n",
    "\n",
    "\n",
    "infinity = sys.float_info.max"
   ]
  },
  {
   "cell_type": "markdown",
   "metadata": {},
   "source": [
    "색상 값을 정규화하는 normalize_color를 추가합니다.\n",
    "* 이제 한 픽셀마다 여러 ray가 컬러를 샘플링해서 더하기 때문에 샘플링 갯수로 나누어 주는 함수입니다."
   ]
  },
  {
   "cell_type": "code",
   "execution_count": 3,
   "metadata": {},
   "outputs": [],
   "source": [
    "def normalize(vec: np.array, eps: float = 1e-6):\n",
    "    return vec / (LA.norm(vec) + eps)\n",
    "\n",
    "\n",
    "def blend(color1: np.array, color2: np.array, t: float):\n",
    "    return (1.0 - t) * color1 + t * color2\n",
    "\n",
    "\n",
    "def normalize_color(image: np.array, samples_per_pixel: int):\n",
    "    # divide the color by the number of samples.\n",
    "    scale = 1.0 / samples_per_pixel\n",
    "    return scale * image"
   ]
  },
  {
   "cell_type": "markdown",
   "metadata": {},
   "source": [
    "다른 클래스과 함수들의 구현은 이전과 동일합니다."
   ]
  },
  {
   "cell_type": "code",
   "execution_count": 4,
   "metadata": {},
   "outputs": [],
   "source": [
    "class Ray:\n",
    "    def __init__(self, origin: np.array, direction: np.array) -> None:\n",
    "        self.origin: np.array = origin\n",
    "        self.direction: np.array = normalize(direction)\n",
    "\n",
    "    def at(self, t: float) -> np.array:\n",
    "        return self.origin + t * self.direction"
   ]
  },
  {
   "cell_type": "code",
   "execution_count": 5,
   "metadata": {},
   "outputs": [],
   "source": [
    "class HitRecord:\n",
    "    def __init__(self, point: np.array, normal: np.array, t: float) -> None:\n",
    "        self.point = point\n",
    "        self.normal = normal\n",
    "        self.t = t\n",
    "\n",
    "    def set_face_normal(self, ray: Ray, outward_normal: np.array) -> None:\n",
    "        is_front_face = np.dot(ray.direction, outward_normal) < 0\n",
    "        self.normal = outward_normal if is_front_face else -outward_normal"
   ]
  },
  {
   "cell_type": "code",
   "execution_count": 6,
   "metadata": {},
   "outputs": [],
   "source": [
    "class Hittable:\n",
    "    def hit(self, ray: Ray, t_min: float, t_max: float) -> HitRecord:\n",
    "        raise NotImplementedError"
   ]
  },
  {
   "cell_type": "code",
   "execution_count": 7,
   "metadata": {},
   "outputs": [],
   "source": [
    "class Sphere(Hittable):\n",
    "    def __init__(self) -> None:\n",
    "        self.center = np.zeros(3)\n",
    "        self.radius = 1.0\n",
    "\n",
    "    def __init__(self, center: np.array, radius: float) -> None:\n",
    "        self.center = center\n",
    "        self.radius = radius\n",
    "\n",
    "    def hit(self, ray: Ray, t_min: float, t_max: float) -> bool:\n",
    "        dir_center_to_origin = ray.origin - self.center\n",
    "\n",
    "        a = np.dot(ray.direction, ray.direction)\n",
    "        half_b = np.dot(dir_center_to_origin, ray.direction)\n",
    "        c = np.dot(dir_center_to_origin, dir_center_to_origin) - self.radius**2.0\n",
    "\n",
    "        discriminant = half_b**2 - a * c\n",
    "        if discriminant < 0:\n",
    "            return None\n",
    "        sqrt_d = np.sqrt(discriminant)\n",
    "\n",
    "        # find the nearest root that lies in the acceptable range.\n",
    "        t = (-half_b - sqrt_d) / a\n",
    "        if t < t_min or t_max < t:\n",
    "            t = (-half_b + sqrt_d) / a\n",
    "            if t < t_min or t_max < t:\n",
    "                return None\n",
    "\n",
    "        point = ray.at(t)\n",
    "        outward_normal = (point - self.center) / self.radius\n",
    "        hit_record = HitRecord(point=point, normal=outward_normal, t=t)\n",
    "        hit_record.set_face_normal(ray=ray, outward_normal=outward_normal)\n",
    "\n",
    "        return hit_record"
   ]
  },
  {
   "cell_type": "code",
   "execution_count": 8,
   "metadata": {},
   "outputs": [],
   "source": [
    "class HittableList(Hittable):\n",
    "    def __init__(self) -> None:\n",
    "        self.objects: List[Hittable] = []\n",
    "\n",
    "    def clear(self) -> None:\n",
    "        self.objects.clear()\n",
    "\n",
    "    def add(self, object: Hittable) -> None:\n",
    "        self.objects.append(object)\n",
    "\n",
    "    def hit(self, ray: Ray, t_min: float, t_max: float) -> HitRecord:\n",
    "        record = None\n",
    "        closest_so_far = t_max\n",
    "\n",
    "        for object in self.objects:\n",
    "            tmp_record = object.hit(ray=ray, t_min=t_min, t_max=closest_so_far)\n",
    "            if tmp_record is not None:\n",
    "                closest_so_far = tmp_record.t\n",
    "                record = tmp_record\n",
    "\n",
    "        return record"
   ]
  },
  {
   "cell_type": "markdown",
   "metadata": {},
   "source": [
    "카메라 파라미터들과 함수를 Camera 클래스로 묶었습니다.\n",
    "* get_ray 함수는 픽셀의 uv 좌표를 입력으로 주면 ray를 생성해 반환합니다."
   ]
  },
  {
   "cell_type": "code",
   "execution_count": 9,
   "metadata": {},
   "outputs": [],
   "source": [
    "class Camera:\n",
    "    def __init__(self) -> None:\n",
    "        self.aspect_ratio = 16.0 / 9.0\n",
    "        self.viewport_height = 2.0\n",
    "        self.viewport_width = self.aspect_ratio * self.viewport_height\n",
    "        self.focal_length = 1.0\n",
    "\n",
    "        self.origin = np.array([0.0, 0.0, 0.0])\n",
    "        self.horizontal_vec = np.array([self.viewport_width, 0.0, 0.0])\n",
    "        self.vertical_vec = np.array([0.0, self.viewport_height, 0.0])\n",
    "        self.frontal_vec = np.array([0.0, 0.0, self.focal_length])\n",
    "        self.lower_left_corner = (\n",
    "            self.origin\n",
    "            - self.horizontal_vec / 2.0\n",
    "            - self.vertical_vec / 2.0\n",
    "            - self.frontal_vec\n",
    "        )\n",
    "\n",
    "    def get_ray(self, u: float, v: float) -> Ray:\n",
    "        return Ray(\n",
    "            origin=self.origin,\n",
    "            direction=(\n",
    "                self.lower_left_corner + u * self.horizontal_vec + v * self.vertical_vec\n",
    "            )\n",
    "            - self.origin,\n",
    "        )"
   ]
  },
  {
   "cell_type": "code",
   "execution_count": 10,
   "metadata": {},
   "outputs": [],
   "source": [
    "def ray_color(ray: Ray, world: Hittable) -> np.array:\n",
    "    color = np.ones(3)\n",
    "    record = world.hit(ray=ray, t_min=0.0, t_max=infinity)\n",
    "    if record is not None:\n",
    "        return 0.5 * (record.normal + color)\n",
    "\n",
    "    t = 0.5 * (ray.direction[1] + 1.0)\n",
    "    color1 = np.array([1.0, 1.0, 1.0])\n",
    "    color2 = np.array([0.5, 0.7, 1.0])\n",
    "    return blend(color1=color1, color2=color2, t=t)"
   ]
  },
  {
   "cell_type": "markdown",
   "metadata": {},
   "source": [
    "다른 부분은 이전과 동일하고 samples_per_pixels를 추가합니다.\n",
    "* samples_per_pixels은 하나의 픽셀마다 몇개의 ray를 만들지를 의미합니다.\n",
    "* samples_per_pixels이 1이면 이전과 동일한 결과를 만듭니다.\n",
    "* samples_per_pixels이 커질수록 계산시간은 늘어나지만 물체의 경계 부분이 부드러워 지는 것을 확인할 수 있습니다."
   ]
  },
  {
   "cell_type": "code",
   "execution_count": 11,
   "metadata": {},
   "outputs": [],
   "source": [
    "# image\n",
    "aspect_ratio = 16.0 / 9.0\n",
    "image_width = 320\n",
    "image_height = int(image_width / aspect_ratio)\n",
    "samples_per_pixel = 10\n",
    "\n",
    "image = np.zeros([image_height, image_width, 3])"
   ]
  },
  {
   "cell_type": "code",
   "execution_count": 12,
   "metadata": {},
   "outputs": [],
   "source": [
    "# world\n",
    "world = HittableList()\n",
    "world.add(Sphere(center=np.array([0.0, 0.0, -1.0]), radius=0.5))\n",
    "world.add(Sphere(center=np.array([0.0, -100.5, -1.0]), radius=100.0))"
   ]
  },
  {
   "cell_type": "code",
   "execution_count": 13,
   "metadata": {},
   "outputs": [],
   "source": [
    "# camera\n",
    "camera = Camera()"
   ]
  },
  {
   "cell_type": "markdown",
   "metadata": {},
   "source": [
    "이전까지는 각 ray가 픽셀의 중심을 지나간다고 가정했습니다. 지금은 이전 구현과 다르게 여러 ray가 픽셀의 여러 지점을 통과합니다.\n",
    "1. 하나의 픽셀에 대해서 samples_per_pixel 만큼 랜덤한 ray들을 생성해서 색상을 계산해서 누적\n",
    "2. 누적된 색상 값을 samples_per_pixel 으로 나누어서 정규화합니다.\n",
    "<img src=\"./images/pixel_samples.png\" width=\"600px\" title=\"hit_case_1_1\"/>"
   ]
  },
  {
   "cell_type": "code",
   "execution_count": 14,
   "metadata": {},
   "outputs": [
    {
     "name": "stderr",
     "output_type": "stream",
     "text": [
      "100%|██████████| 180/180 [00:14<00:00, 12.15it/s]"
     ]
    },
    {
     "name": "stdout",
     "output_type": "stream",
     "text": [
      "CPU times: total: 14.8 s\n",
      "Wall time: 14.8 s\n"
     ]
    },
    {
     "name": "stderr",
     "output_type": "stream",
     "text": [
      "\n"
     ]
    }
   ],
   "source": [
    "%%time\n",
    "\n",
    "for row in tqdm(range(image_height)):\n",
    "  for col in range(image_width):\n",
    "    for _ in range(samples_per_pixel):\n",
    "      u = (col + np.random.uniform(low=-0.5, high=0.5)) / (image_width - 1)\n",
    "      v = (row + np.random.uniform(low=-0.5, high=0.5)) / (image_height - 1)\n",
    "      ray = camera.get_ray(u, v)\n",
    "      image[row, col] += ray_color(ray=ray, world=world)\n",
    "\n",
    "image = normalize_color(image, samples_per_pixel=samples_per_pixel)"
   ]
  },
  {
   "cell_type": "markdown",
   "metadata": {},
   "source": [
    "이미지의 경계 부분의 계단 현상이 줄어든 것을 확인합니다."
   ]
  },
  {
   "cell_type": "code",
   "execution_count": 15,
   "metadata": {},
   "outputs": [
    {
     "data": {
      "image/png": "[encoded data removed]",
      "text/plain": [
       "<Figure size 640x480 with 1 Axes>"
      ]
     },
     "metadata": {},
     "output_type": "display_data"
    }
   ],
   "source": [
    "plt.imshow(image, origin=\"lower\")\n",
    "plt.show()"
   ]
  },
  {
   "cell_type": "code",
   "execution_count": null,
   "metadata": {},
   "outputs": [],
   "source": []
  }
 ],
 "metadata": {
  "kernelspec": {
   "display_name": "Python 3 (ipykernel)",
   "language": "python",
   "name": "python3"
  },
  "language_info": {
   "codemirror_mode": {
    "name": "ipython",
    "version": 3
   },
   "file_extension": ".py",
   "mimetype": "text/x-python",
   "name": "python",
   "nbconvert_exporter": "python",
   "pygments_lexer": "ipython3",
   "version": "3.12.4"
  }
 },
 "nbformat": 4,
 "nbformat_minor": 4
}
