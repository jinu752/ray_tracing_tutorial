{
 "cells": [
  {
   "attachments": {},
   "cell_type": "markdown",
   "metadata": {},
   "source": [
    "# 06 Antialiasing\n",
    "\n",
    "* 하나의 픽셀 별로 여러 ray를 쏘고 blending해서 영상의 aliasing을 줄입니다."
   ]
  },
  {
   "cell_type": "code",
   "execution_count": 1,
   "metadata": {},
   "outputs": [],
   "source": [
    "from typing import List\n",
    "import sys\n",
    "from tqdm import tqdm\n",
    "\n",
    "import numpy as np\n",
    "import numpy.linalg as LA\n",
    "import matplotlib.pyplot as plt\n",
    "\n",
    "\n",
    "infinity = sys.float_info.max"
   ]
  },
  {
   "cell_type": "code",
   "execution_count": 2,
   "metadata": {},
   "outputs": [],
   "source": [
    "def normalize(vec: np.array, eps: float = 1e-6):\n",
    "    return vec / (LA.norm(vec) + eps)\n",
    "\n",
    "\n",
    "def blend(color1: np.array, color2: np.array, t: float):\n",
    "    return (1.0 - t) * color1 + t * color2\n",
    "\n",
    "\n",
    "def normalize_color(image: np.array, samples_per_pixel: int):\n",
    "    # divide the color by the number of samples.\n",
    "    scale = 1.0 / samples_per_pixel\n",
    "    return scale * image"
   ]
  },
  {
   "cell_type": "code",
   "execution_count": 3,
   "metadata": {},
   "outputs": [],
   "source": [
    "class Ray:\n",
    "    def __init__(self, origin: np.array, direction: np.array) -> None:\n",
    "        self.origin: np.array = origin\n",
    "        self.direction: np.array = normalize(direction)\n",
    "\n",
    "    def at(self, t: float) -> np.array:\n",
    "        return self.origin + t * self.direction"
   ]
  },
  {
   "cell_type": "code",
   "execution_count": 4,
   "metadata": {},
   "outputs": [],
   "source": [
    "class HitRecord:\n",
    "    def __init__(self, point: np.array, normal: np.array, t: float) -> None:\n",
    "        self.point = point\n",
    "        self.normal = normal\n",
    "        self.t = t\n",
    "\n",
    "    def set_face_normal(self, ray: Ray, outward_normal: np.array) -> None:\n",
    "        is_front_face = np.dot(ray.direction, outward_normal) < 0\n",
    "        self.normal = outward_normal if is_front_face else -outward_normal"
   ]
  },
  {
   "cell_type": "code",
   "execution_count": 5,
   "metadata": {},
   "outputs": [],
   "source": [
    "class Hittable:\n",
    "    def hit(self, ray: Ray, t_min: float, t_max: float) -> HitRecord:\n",
    "        raise NotImplementedError"
   ]
  },
  {
   "cell_type": "code",
   "execution_count": 6,
   "metadata": {},
   "outputs": [],
   "source": [
    "class Sphere(Hittable):\n",
    "    def __init__(self) -> None:\n",
    "        self.center = np.zeros(3)\n",
    "        self.radius = 1.0\n",
    "\n",
    "    def __init__(self, center: np.array, radius: float) -> None:\n",
    "        self.center = center\n",
    "        self.radius = radius\n",
    "\n",
    "    def hit(self, ray: Ray, t_min: float, t_max: float) -> bool:\n",
    "        dir_center_to_origin = ray.origin - self.center\n",
    "\n",
    "        a = np.dot(ray.direction, ray.direction)\n",
    "        half_b = np.dot(dir_center_to_origin, ray.direction)\n",
    "        c = np.dot(dir_center_to_origin, dir_center_to_origin) - self.radius**2.0\n",
    "\n",
    "        discriminant = half_b**2 - a * c\n",
    "        if discriminant < 0:\n",
    "            return None\n",
    "        sqrt_d = np.sqrt(discriminant)\n",
    "\n",
    "        # find the nearest root that lies in the acceptable range.\n",
    "        t = (-half_b - sqrt_d) / a\n",
    "        if t < t_min or t_max < t:\n",
    "            t = (-half_b + sqrt_d) / a\n",
    "            if t < t_min or t_max < t:\n",
    "                return None\n",
    "\n",
    "        point = ray.at(t)\n",
    "        outward_normal = (point - self.center) / self.radius\n",
    "        hit_record = HitRecord(point=point, normal=outward_normal, t=t)\n",
    "        hit_record.set_face_normal(ray=ray, outward_normal=outward_normal)\n",
    "\n",
    "        return hit_record"
   ]
  },
  {
   "cell_type": "code",
   "execution_count": 7,
   "metadata": {},
   "outputs": [],
   "source": [
    "class HittableList(Hittable):\n",
    "    def __init__(self) -> None:\n",
    "        self.objects: List[Hittable] = []\n",
    "\n",
    "    def clear(self) -> None:\n",
    "        self.objects.clear()\n",
    "\n",
    "    def add(self, object: Hittable) -> None:\n",
    "        self.objects.append(object)\n",
    "\n",
    "    def hit(self, ray: Ray, t_min: float, t_max: float) -> HitRecord:\n",
    "        record = None\n",
    "        closest_so_far = t_max\n",
    "\n",
    "        for object in self.objects:\n",
    "            tmp_record = object.hit(ray=ray, t_min=t_min, t_max=closest_so_far)\n",
    "            if tmp_record is not None:\n",
    "                closest_so_far = tmp_record.t\n",
    "                record = tmp_record\n",
    "\n",
    "        return record"
   ]
  },
  {
   "cell_type": "markdown",
   "metadata": {},
   "source": [
    "카메라 파라미터들과 함수를 Camera 클래스로 묶었습니다.\n",
    "* get_ray 함수는 픽셀의 uv 좌표를 입력으로 주면 ray를 생성해 반환합니다."
   ]
  },
  {
   "cell_type": "code",
   "execution_count": 8,
   "metadata": {},
   "outputs": [],
   "source": [
    "class Camera:\n",
    "    def __init__(self) -> None:\n",
    "        self.aspect_ratio = 16.0 / 9.0\n",
    "        self.viewport_height = 2.0\n",
    "        self.viewport_width = self.aspect_ratio * self.viewport_height\n",
    "        self.focal_length = 1.0\n",
    "\n",
    "        self.origin = np.array([0.0, 0.0, 0.0])\n",
    "        self.horizontal_vec = np.array([self.viewport_width, 0.0, 0.0])\n",
    "        self.vertical_vec = np.array([0.0, self.viewport_height, 0.0])\n",
    "        self.frontal_vec = np.array([0.0, 0.0, self.focal_length])\n",
    "        self.lower_left_corner = (\n",
    "            self.origin\n",
    "            - self.horizontal_vec / 2.0\n",
    "            - self.vertical_vec / 2.0\n",
    "            - self.frontal_vec\n",
    "        )\n",
    "\n",
    "    def get_ray(self, u: float, v: float) -> Ray:\n",
    "        return Ray(\n",
    "            origin=self.origin,\n",
    "            direction=(\n",
    "                self.lower_left_corner + u * self.horizontal_vec + v * self.vertical_vec\n",
    "            )\n",
    "            - self.origin,\n",
    "        )"
   ]
  },
  {
   "cell_type": "code",
   "execution_count": 9,
   "metadata": {},
   "outputs": [],
   "source": [
    "def ray_color(ray: Ray, world: Hittable) -> np.array:\n",
    "    color = np.ones(3)\n",
    "    record = world.hit(ray=ray, t_min=0.0, t_max=infinity)\n",
    "    if record is not None:\n",
    "        return 0.5 * (record.normal + color)\n",
    "\n",
    "    t = 0.5 * (ray.direction[1] + 1.0)\n",
    "    color1 = np.array([1.0, 1.0, 1.0])\n",
    "    color2 = np.array([0.5, 0.7, 1.0])\n",
    "    return blend(color1=color1, color2=color2, t=t)"
   ]
  },
  {
   "cell_type": "code",
   "execution_count": 10,
   "metadata": {},
   "outputs": [],
   "source": [
    "# image\n",
    "aspect_ratio = 16.0 / 9.0\n",
    "image_width = 320\n",
    "image_height = int(image_width / aspect_ratio)\n",
    "samples_per_pixel = 10\n",
    "\n",
    "image = np.zeros([image_height, image_width, 3])"
   ]
  },
  {
   "cell_type": "code",
   "execution_count": 11,
   "metadata": {},
   "outputs": [],
   "source": [
    "# world\n",
    "world = HittableList()\n",
    "world.add(Sphere(center=np.array([0.0, 0.0, -1.0]), radius=0.5))\n",
    "world.add(Sphere(center=np.array([0.0, -100.5, -1.0]), radius=100.0))"
   ]
  },
  {
   "cell_type": "code",
   "execution_count": 12,
   "metadata": {},
   "outputs": [],
   "source": [
    "# camera\n",
    "camera = Camera()"
   ]
  },
  {
   "cell_type": "code",
   "execution_count": 13,
   "metadata": {},
   "outputs": [
    {
     "name": "stderr",
     "output_type": "stream",
     "text": [
      "100%|██████████| 180/180 [00:16<00:00, 10.94it/s]"
     ]
    },
    {
     "name": "stdout",
     "output_type": "stream",
     "text": [
      "CPU times: total: 16.5 s\n",
      "Wall time: 16.5 s\n"
     ]
    },
    {
     "name": "stderr",
     "output_type": "stream",
     "text": [
      "\n"
     ]
    }
   ],
   "source": [
    "%%time\n",
    "\n",
    "for row in tqdm(range(image_height)):\n",
    "  for col in range(image_width):\n",
    "    for _ in range(samples_per_pixel):\n",
    "      u = (col + np.random.uniform(low=0.0, high=1.0)) / (image_width - 1)\n",
    "      v = (row + np.random.uniform(low=0.0, high=1.0)) / (image_height - 1)\n",
    "      ray = camera.get_ray(u, v)\n",
    "      image[row, col] += ray_color(ray=ray, world=world)\n",
    "\n",
    "image = normalize_color(image, samples_per_pixel=samples_per_pixel)"
   ]
  },
  {
   "cell_type": "code",
   "execution_count": 14,
   "metadata": {},
   "outputs": [
    {
     "data": {
      "image/png": "[encoded data removed]",
      "text/plain": [
       "<Figure size 640x480 with 1 Axes>"
      ]
     },
     "metadata": {},
     "output_type": "display_data"
    }
   ],
   "source": [
    "plt.imshow(image, origin=\"lower\")\n",
    "plt.show()"
   ]
  },
  {
   "cell_type": "code",
   "execution_count": null,
   "metadata": {},
   "outputs": [],
   "source": []
  }
 ],
 "metadata": {
  "kernelspec": {
   "display_name": "Python 3 (ipykernel)",
   "language": "python",
   "name": "python3"
  },
  "language_info": {
   "codemirror_mode": {
    "name": "ipython",
    "version": 3
   },
   "file_extension": ".py",
   "mimetype": "text/x-python",
   "name": "python",
   "nbconvert_exporter": "python",
   "pygments_lexer": "ipython3",
   "version": "3.12.4"
  }
 },
 "nbformat": 4,
 "nbformat_minor": 4
}
