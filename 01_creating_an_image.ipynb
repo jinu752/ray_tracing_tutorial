{
 "cells": [
  {
   "attachments": {},
   "cell_type": "markdown",
   "metadata": {},
   "source": [
    "# 01 Creating an image\n",
    "\n",
    "* 간단한 이미지 생성 예제입니다.\n",
    "* numpy array를 자료 구조로 사용하고 matplotlib으로 시각화 합니다."
   ]
  },
  {
   "cell_type": "code",
   "execution_count": 1,
   "metadata": {},
   "outputs": [],
   "source": [
    "import numpy as np\n",
    "import matplotlib.pyplot as plt"
   ]
  },
  {
   "attachments": {},
   "cell_type": "markdown",
   "metadata": {},
   "source": [
    "각 컬러 값이 float (0 ~ 1)로 쓰여진 이미지를 unsigned byte (0 ~ 255)로 변환하는 함수입니다.\n",
    "* 일반적인 이미지에서 각 컬러 값은 unsigned byte로 쓰여집니다.\n",
    "* 각 컬러 값이 float인 이미지는 영상 처리나 HDR 이미지에서 사용됩니다.\n",
    "\n",
    "이번 예제에서만 unsigned byte인 이미지를 사용하고 이후 부터는 float 이미지를 그대로 사용합니다."
   ]
  },
  {
   "cell_type": "code",
   "execution_count": 2,
   "metadata": {
    "collapsed": false,
    "jupyter": {
     "outputs_hidden": false
    }
   },
   "outputs": [],
   "source": [
    "def to_pixel_color(fcolor: np.array):\n",
    "    return (255.999 * fcolor).astype(dtype=np.uint8)"
   ]
  },
  {
   "attachments": {},
   "cell_type": "markdown",
   "metadata": {},
   "source": [
    "\n",
    "이미지의 자료구조는 numpy array를 사용\n",
    "* 행렬기반 자료구조 이기 때문에 차원이 순서는 row, column, channel 입니다.\n",
    "* fimage: 각 컬러 값이 float인 이미지 입니다. 이 예제에서는 이미지를 계산할 때만 사용합니다.\n",
    "* image: 각 컬러 값이 unsigned byte인 이미지 입니다. 이미지를 생성/그린 후 시각화할 때 사용합니다.\n",
    "\n",
    "이미지의 채널은 height, width, 그리고 color channel의 갯수 순 입니다. 여기서는 RGB 컬러를 사용하기 때문에 color channel은 3개 입니다.\n"
   ]
  },
  {
   "cell_type": "code",
   "execution_count": 3,
   "metadata": {
    "collapsed": false,
    "jupyter": {
     "outputs_hidden": false
    }
   },
   "outputs": [],
   "source": [
    "image_width = 256\n",
    "image_height = 256\n",
    "fimage = np.zeros([image_height, image_width, 3])\n",
    "image = np.zeros([image_height, image_width, 3], dtype=np.uint8)"
   ]
  },
  {
   "attachments": {},
   "cell_type": "markdown",
   "metadata": {},
   "source": [
    "이미지의 각 컬러 값을 작성합니다.\n",
    "* 이미지에서 픽셀의 시작 위치는 왼쪽 하단 입니다.\n",
    "  * 이미지의 행은 밑에서 위로 작성합니다.\n",
    "  * 이미지의 행에서 각 픽셀은 좌에서 우로 작성합니다.\n",
    "* 각 채널 값의 범위는 0 ~ 1 입니다.\n",
    "* 빨강 채널은 값은 이미지의 아래의 1에서 위의 0으로 감소합니다.\n",
    "* 초록 채널은 값은 이미지의 좌의 1에서 우의 0으로 감소합니다.\n",
    "* 파랑 채널은 값은 0.25 입니다."
   ]
  },
  {
   "cell_type": "code",
   "execution_count": 4,
   "metadata": {},
   "outputs": [],
   "source": [
    "for row in range(image_height):\n",
    "    for col in range(image_width):\n",
    "        r = float(col) / (image_width - 1)\n",
    "        g = float(row) / (image_height - 1)\n",
    "        b = 0.25\n",
    "        fimage[row, col] = np.array([r, g, b])\n",
    "image = to_pixel_color(fimage)"
   ]
  },
  {
   "attachments": {},
   "cell_type": "markdown",
   "metadata": {},
   "source": [
    "matplotlib으로 이미지를 시각화 합니다.\n",
    "* plt.imshow의 origin은 이미지의 좌표 (0, 0)인 위치가 아래(lower)인지 위(upper)인지 결정합니다. 여기서는 아래입니다.\n",
    "    * plt.imshow의 기본 origin은 upper입니다.\n",
    "* plt.imshow는 컬러 이미지의 경우 각 채널의 값이 0.0 ~ 1.0 인 float 이미지나 0 ~ 255인 unsigned byte 이미지를 지원합니다."
   ]
  },
  {
   "cell_type": "code",
   "execution_count": 5,
   "metadata": {},
   "outputs": [
    {
     "data": {
      "image/png": "[encoded data removed]",
      "text/plain": [
       "<Figure size 640x480 with 1 Axes>"
      ]
     },
     "metadata": {},
     "output_type": "display_data"
    }
   ],
   "source": [
    "plt.imshow(image, origin='lower')\n",
    "plt.show()"
   ]
  },
  {
   "cell_type": "code",
   "execution_count": null,
   "metadata": {},
   "outputs": [],
   "source": []
  }
 ],
 "metadata": {
  "kernelspec": {
   "display_name": "Python 3 (ipykernel)",
   "language": "python",
   "name": "python3"
  },
  "language_info": {
   "codemirror_mode": {
    "name": "ipython",
    "version": 3
   },
   "file_extension": ".py",
   "mimetype": "text/x-python",
   "name": "python",
   "nbconvert_exporter": "python",
   "pygments_lexer": "ipython3",
   "version": "3.12.4"
  }
 },
 "nbformat": 4,
 "nbformat_minor": 4
}
