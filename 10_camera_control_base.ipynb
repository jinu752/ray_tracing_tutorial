{
 "cells": [
  {
   "cell_type": "markdown",
   "metadata": {
    "id": "P7EV7hh2wuKj"
   },
   "source": [
    "# 10 Camera Control\n",
    "\n",
    "* 카메라의 속성과 위치를 변경하는 방법을 배웁니다."
   ]
  },
  {
   "cell_type": "code",
   "execution_count": 1,
   "metadata": {
    "ExecuteTime": {
     "end_time": "2024-10-11T07:19:08.243354Z",
     "start_time": "2024-10-11T07:19:07.125126Z"
    },
    "id": "oaKKRJRtwuKk"
   },
   "outputs": [],
   "source": [
    "from typing import List\n",
    "import sys\n",
    "from tqdm import tqdm\n",
    "\n",
    "import numpy as np\n",
    "import numpy.linalg as LA\n",
    "\n",
    "import matplotlib.pyplot as plt\n",
    "\n",
    "infinity = sys.float_info.max"
   ]
  },
  {
   "cell_type": "code",
   "execution_count": 2,
   "metadata": {
    "ExecuteTime": {
     "end_time": "2024-10-11T07:19:08.803015Z",
     "start_time": "2024-10-11T07:19:08.800473Z"
    },
    "id": "mT553CS-wuKl"
   },
   "outputs": [],
   "source": [
    "def normalize(vec: np.array, eps: float = 1e-6):\n",
    "    return vec / (LA.norm(vec) + eps)\n",
    "\n",
    "\n",
    "def blend(color1: np.array, color2: np.array, t: float):\n",
    "    return (1.0 - t) * color1 + t * color2\n",
    "\n",
    "\n",
    "def linear_to_gamma(linear_component: np.array) -> np.array:\n",
    "    return np.where(linear_component > 0, np.sqrt(linear_component), linear_component)\n",
    "\n",
    "\n",
    "def scale_color(color: np.array, num_sample_per_pixel: int) -> np.array:\n",
    "    # divide the color by the number of samples.\n",
    "    scale = 1.0 / num_sample_per_pixel\n",
    "    rgb = scale * color\n",
    "    rgb = np.clip(rgb, 0.0, 0.999)\n",
    "    return rgb\n",
    "\n",
    "\n",
    "def random() -> float:\n",
    "    return np.random.uniform(low=0.0, high=1.0)\n",
    "\n",
    "\n",
    "def random_in_unit_sphere() -> np.array:\n",
    "    p = np.random.uniform(low=-1.0, high=1.0, size=[3])\n",
    "    return normalize(p)\n",
    "\n",
    "\n",
    "def random_in_hemisphere(normal: np.array) -> np.array:\n",
    "    p = random_in_unit_sphere()\n",
    "    return p if np.dot(p, normal) > 0.0 else -p\n",
    "\n",
    "\n",
    "def near_zero(vec: np.array, eps: float = 1e-6) -> bool:\n",
    "    return np.all(np.abs(vec) < eps)\n",
    "\n",
    "\n",
    "def reflect(vec: np.array, normal: np.array) -> np.array:\n",
    "    return vec - 2 * np.dot(vec, normal) * normal\n",
    "\n",
    "\n",
    "def refract(vec: np.array, normal: np.array, etai_over_etat: float) -> np.array:\n",
    "    cos_theta = np.minimum(np.dot(-vec, normal), 1.0)\n",
    "    r_out_perp = etai_over_etat * (vec + cos_theta * normal)\n",
    "    r_out_parallel = -np.sqrt(np.abs(1.0 - np.dot(r_out_perp, r_out_perp))) * normal\n",
    "    return r_out_perp + r_out_parallel"
   ]
  },
  {
   "cell_type": "code",
   "execution_count": 3,
   "metadata": {
    "ExecuteTime": {
     "end_time": "2024-10-11T07:19:09.238367Z",
     "start_time": "2024-10-11T07:19:09.235868Z"
    },
    "id": "6NDRVTdDwuKl"
   },
   "outputs": [],
   "source": [
    "class Ray:\n",
    "    def __init__(self, origin: np.array, direction: np.array) -> None:\n",
    "        self.origin: np.array = origin\n",
    "        self.direction: np.array = normalize(direction)\n",
    "\n",
    "    def at(self, t: float) -> np.array:\n",
    "        return self.origin + t * self.direction"
   ]
  },
  {
   "cell_type": "code",
   "execution_count": 4,
   "metadata": {
    "id": "nj_F4eTpxDJu"
   },
   "outputs": [],
   "source": [
    "class Material:\n",
    "    def scatter(self, r_in: Ray, record: \"HitRecord\") -> tuple[bool, np.array, np.array]:\n",
    "        return False, None, None"
   ]
  },
  {
   "cell_type": "code",
   "execution_count": 5,
   "metadata": {
    "id": "T9o4CjKFx8iz"
   },
   "outputs": [],
   "source": [
    "class Lambertian(Material):\n",
    "    def __init__(self, albedo: np.array):\n",
    "        self.albedo = albedo\n",
    "\n",
    "    def scatter(self, r_in: Ray, record: \"HitRecord\") -> tuple[bool, np.array, np.array]:\n",
    "        scatter_direction = record.normal + random_in_unit_sphere()\n",
    "\n",
    "        if near_zero(scatter_direction):\n",
    "            scatter_direction = record.normal\n",
    "\n",
    "        scattered = Ray(origin=record.point, direction=scatter_direction)\n",
    "        return True, self.albedo, scattered"
   ]
  },
  {
   "cell_type": "code",
   "execution_count": 6,
   "metadata": {
    "id": "yN5T-yes09av"
   },
   "outputs": [],
   "source": [
    "class Metal(Material):\n",
    "    def __init__(self, albedo: np.array, fuzz: float):\n",
    "        self.albedo = albedo\n",
    "        self.fuzz = fuzz if fuzz < 1 else 1\n",
    "\n",
    "    def scatter(self, r_in: Ray, record: \"HitRecord\") -> tuple[bool, np.array]:\n",
    "        reflected = reflect(r_in.direction, record.normal)\n",
    "        reflected = normalize(reflected) + (self.fuzz * random_in_unit_sphere())\n",
    "\n",
    "        scattered = Ray(origin=record.point, direction=reflected)\n",
    "        if np.dot(scattered.direction, record.normal) > 0:\n",
    "            return True, self.albedo, scattered\n",
    "        else:\n",
    "            return False, self.albedo, scattered"
   ]
  },
  {
   "cell_type": "code",
   "execution_count": 7,
   "metadata": {
    "id": "6LkTpcWzqOhj"
   },
   "outputs": [],
   "source": [
    "class Dielectric(Material):\n",
    "    def __init__(self, index_of_refraction: float):\n",
    "        # Refractive index in vacuum or air, or the ratio of the material's refractive index over\n",
    "        # the refractive index of the enclosing media\n",
    "        self.index_of_refraction = index_of_refraction\n",
    "\n",
    "    def scatter(self, r_in: Ray, record: \"HitRecord\") -> tuple[bool, np.array, np.array]:\n",
    "        attenuation = np.array([1.0, 1.0, 1.0])\n",
    "        refraction_ratio = 1.0 / self.index_of_refraction if record.is_front_face else self.index_of_refraction\n",
    "\n",
    "        unit_direction = normalize(r_in.direction)\n",
    "        refracted = refract(unit_direction, record.normal, refraction_ratio)\n",
    "\n",
    "        scattered = Ray(origin=record.point, direction=refracted)\n",
    "        return True, attenuation, scattered"
   ]
  },
  {
   "cell_type": "code",
   "execution_count": 8,
   "metadata": {
    "ExecuteTime": {
     "end_time": "2024-10-11T07:19:09.648017Z",
     "start_time": "2024-10-11T07:19:09.645291Z"
    },
    "id": "abuDxK03wuKn"
   },
   "outputs": [],
   "source": [
    "class HitRecord:\n",
    "    def __init__(self, point: np.array, normal: np.array, t: float) -> None:\n",
    "        self.point = point\n",
    "        self.normal = normal\n",
    "        self.material: Material = None\n",
    "        self.t = t\n",
    "        self.is_front_face = True\n",
    "\n",
    "    def set_face_normal(self, ray: Ray, outward_normal: np.array) -> None:\n",
    "        self.is_front_face = np.dot(ray.direction, outward_normal) < 0\n",
    "        self.normal = outward_normal if self.is_front_face else -outward_normal"
   ]
  },
  {
   "cell_type": "code",
   "execution_count": 9,
   "metadata": {
    "ExecuteTime": {
     "end_time": "2024-10-11T07:19:09.998319Z",
     "start_time": "2024-10-11T07:19:09.995923Z"
    },
    "id": "emjCT0OTwuKn"
   },
   "outputs": [],
   "source": [
    "class Hittable:\n",
    "    def hit(self, ray: Ray, t_min: float, t_max: float) -> HitRecord:\n",
    "        raise NotImplementedError"
   ]
  },
  {
   "cell_type": "code",
   "execution_count": 10,
   "metadata": {
    "ExecuteTime": {
     "end_time": "2024-10-11T07:19:10.385636Z",
     "start_time": "2024-10-11T07:19:10.381766Z"
    },
    "id": "L8zsDyAEwuKn"
   },
   "outputs": [],
   "source": [
    "class Sphere(Hittable):\n",
    "    def __init__(self, center: np.array, radius: float, material: Material) -> None:\n",
    "        self.center = center\n",
    "        self.radius = radius\n",
    "        self.material = material\n",
    "\n",
    "    def hit(self, ray: Ray, t_min: float, t_max: float) -> bool:\n",
    "        dir_center_to_origin = ray.origin - self.center\n",
    "\n",
    "        a = np.dot(ray.direction, ray.direction)\n",
    "        half_b = np.dot(dir_center_to_origin, ray.direction)\n",
    "        c = np.dot(dir_center_to_origin, dir_center_to_origin) - self.radius**2.0\n",
    "\n",
    "        discriminant = half_b**2 - a * c\n",
    "        if discriminant < 0:\n",
    "            return None\n",
    "        sqrt_d = np.sqrt(discriminant)\n",
    "\n",
    "        # find the nearest root that lies in the acceptable range.\n",
    "        t = (-half_b - sqrt_d) / a\n",
    "        if t < t_min or t_max < t:\n",
    "            t = (-half_b + sqrt_d) / a\n",
    "            if t < t_min or t_max < t:\n",
    "                return None\n",
    "\n",
    "        point = ray.at(t)\n",
    "        outward_normal = (point - self.center) / self.radius\n",
    "        hit_record = HitRecord(point=point, normal=outward_normal, t=t)\n",
    "        hit_record.set_face_normal(ray=ray, outward_normal=outward_normal)\n",
    "        hit_record.material = self.material\n",
    "\n",
    "        return hit_record"
   ]
  },
  {
   "cell_type": "code",
   "execution_count": 11,
   "metadata": {
    "ExecuteTime": {
     "end_time": "2024-10-11T07:19:10.912392Z",
     "start_time": "2024-10-11T07:19:10.908506Z"
    },
    "id": "EMNZUPDzwuKn"
   },
   "outputs": [],
   "source": [
    "class HittableList(Hittable):\n",
    "    def __init__(self) -> None:\n",
    "        self.objects: List[Hittable] = []\n",
    "\n",
    "    def clear(self) -> None:\n",
    "        self.objects.clear()\n",
    "\n",
    "    def add(self, object: Hittable) -> None:\n",
    "        self.objects.append(object)\n",
    "\n",
    "    def hit(self, ray: Ray, t_min: float, t_max: float) -> HitRecord:\n",
    "        record = None\n",
    "        closest_so_far = t_max\n",
    "\n",
    "        for object in self.objects:\n",
    "            tmp_record = object.hit(ray=ray, t_min=t_min, t_max=closest_so_far)\n",
    "            if tmp_record is not None:\n",
    "                closest_so_far = tmp_record.t\n",
    "                record = tmp_record\n",
    "\n",
    "        return record"
   ]
  },
  {
   "cell_type": "code",
   "execution_count": 12,
   "metadata": {
    "ExecuteTime": {
     "end_time": "2024-10-11T07:19:12.343886Z",
     "start_time": "2024-10-11T07:19:12.340625Z"
    },
    "id": "n3W1cP5zwuKp"
   },
   "outputs": [],
   "source": [
    "def ray_color(ray: Ray, world: Hittable, depth: int) -> np.array:\n",
    "    if depth <= 0:\n",
    "        color = np.zeros(3)\n",
    "        return color\n",
    "\n",
    "    record = world.hit(ray=ray, t_min=0.0, t_max=infinity)\n",
    "    if record is not None:\n",
    "        scatter_info = record.material.scatter(ray, record)\n",
    "        if scatter_info[0]:\n",
    "            return scatter_info[1] * ray_color(ray=scatter_info[2], world=world, depth=depth - 1)\n",
    "        return np.zeros(3)\n",
    "\n",
    "    t = 0.5 * (ray.direction[1] + 1.0)\n",
    "    color1 = np.array([1.0, 1.0, 1.0])\n",
    "    color2 = np.array([0.5, 0.7, 1.0])\n",
    "    return blend(color1=color1, color2=color2, t=t)"
   ]
  },
  {
   "cell_type": "code",
   "execution_count": 13,
   "metadata": {
    "ExecuteTime": {
     "end_time": "2024-10-11T07:19:11.407270Z",
     "start_time": "2024-10-11T07:19:11.404646Z"
    },
    "id": "Q6ZgGZRZwuKo"
   },
   "outputs": [],
   "source": [
    "class Camera:\n",
    "    def __init__(\n",
    "            self,\n",
    "            aspect_ratio: float, \n",
    "            image_width: int,             \n",
    "            num_sample_per_pixel: int,\n",
    "            max_depth: int,\n",
    "            vfov: float,\n",
    "        ) -> None:\n",
    "\n",
    "        self.aspect_ratio = aspect_ratio\n",
    "        self.image_width = image_width        \n",
    "        self.vfov = vfov\n",
    "        self.num_sample_per_pixel = num_sample_per_pixel\n",
    "        self.max_depth = max_depth        \n",
    "\n",
    "    def _prepare(self):\n",
    "        self.image_height = int(self.image_width / self.aspect_ratio)\n",
    "\n",
    "        focal_length = 1.0\n",
    "        theta = np.radians(self.vfov)\n",
    "        h = np.tan(theta / 2.0)\n",
    "        viewport_height = 2.0 * h * focal_length\n",
    "        viewport_width = self.aspect_ratio * viewport_height\n",
    "\n",
    "        self.origin = np.array([0.0, 0.0, 0.0])\n",
    "        self.horizontal_vec = np.array([viewport_width, 0.0, 0.0])\n",
    "        self.vertical_vec = np.array([0.0, viewport_height, 0.0])\n",
    "        self.frontal_vec = np.array([0.0, 0.0, focal_length])\n",
    "        self.lower_left_corner = (\n",
    "            self.origin\n",
    "            - self.horizontal_vec / 2.0\n",
    "            - self.vertical_vec / 2.0\n",
    "            - self.frontal_vec\n",
    "        )\n",
    "\n",
    "        self.pixel_delta_u = self.horizontal_vec / self.image_width\n",
    "        self.pixel_delta_v = self.vertical_vec / self.image_height\n",
    "\n",
    "    def _get_ray(self, u: float, v: float) -> Ray:\n",
    "        return Ray(\n",
    "            origin=self.origin,\n",
    "            direction=(\n",
    "                self.lower_left_corner + u * self.pixel_delta_u + v * self.pixel_delta_v\n",
    "            )\n",
    "            - self.origin,\n",
    "        )\n",
    "    \n",
    "    def render(self, world: HittableList) -> np.ndarray:\n",
    "        self._prepare()\n",
    "        \n",
    "        image = np.zeros([self.image_height, self.image_width, 3])\n",
    "\n",
    "        for row in tqdm(range(self.image_height)):\n",
    "            for col in range(self.image_width):\n",
    "                for _ in range(self.num_sample_per_pixel):\n",
    "                    u = col + np.random.uniform(low=0.0, high=1.0)\n",
    "                    v = row + np.random.uniform(low=0.0, high=1.0)\n",
    "                    ray = self._get_ray(u, v)\n",
    "                    image[row, col] += ray_color(ray=ray, world=world, depth=self.max_depth)\n",
    "\n",
    "        image = scale_color(image, num_sample_per_pixel=self.num_sample_per_pixel)\n",
    "        image = linear_to_gamma(image)\n",
    "        return image        \n",
    "\n"
   ]
  },
  {
   "cell_type": "code",
   "execution_count": 14,
   "metadata": {
    "ExecuteTime": {
     "end_time": "2024-10-11T07:19:13.309371Z",
     "start_time": "2024-10-11T07:19:13.306730Z"
    },
    "id": "LSd-PkDkwuKq"
   },
   "outputs": [],
   "source": [
    "# material\n",
    "material_left = Lambertian(np.array([0.0, 0.0, 1.0]))\n",
    "material_right = Lambertian(np.array([1.0, 0.0, 0.0]))\n",
    "\n",
    "R = np.cos(np.pi / 4.0)\n",
    "\n",
    "# world\n",
    "world = HittableList()\n",
    "world.add(Sphere(center=np.array([-R, 0.0, -1.0]), radius=R, material=material_left))\n",
    "world.add(Sphere(center=np.array([ R, 0.0, -1.0]), radius=R, material=material_right))"
   ]
  },
  {
   "cell_type": "code",
   "execution_count": 15,
   "metadata": {
    "ExecuteTime": {
     "end_time": "2024-10-11T07:19:13.811997Z",
     "start_time": "2024-10-11T07:19:13.810119Z"
    },
    "id": "rJVTsHy8wuKq"
   },
   "outputs": [],
   "source": [
    "# camera\n",
    "camera = Camera(\n",
    "    aspect_ratio=16.0/9.0, \n",
    "    image_width=100, \n",
    "    num_sample_per_pixel=50,\n",
    "    max_depth=5,\n",
    "    vfov=90.0,  # vertical view angle (field of view)\n",
    ")"
   ]
  },
  {
   "cell_type": "code",
   "execution_count": null,
   "metadata": {
    "ExecuteTime": {
     "end_time": "2024-10-11T07:19:35.565010Z",
     "start_time": "2024-10-11T07:19:14.189021Z"
    },
    "colab": {
     "base_uri": "https://localhost:8080/"
    },
    "executionInfo": {
     "elapsed": 145823,
     "status": "ok",
     "timestamp": 1731422295911,
     "user": {
      "displayName": "Jinwoo Lee",
      "userId": "12336114295707154907"
     },
     "user_tz": -540
    },
    "id": "rd1IZG_iwuKq",
    "outputId": "b52e98dd-2713-4225-b0e1-751e8452cf89"
   },
   "outputs": [],
   "source": [
    "%%time\n",
    "image = camera.render(world)\n"
   ]
  },
  {
   "cell_type": "code",
   "execution_count": null,
   "metadata": {
    "ExecuteTime": {
     "end_time": "2024-10-11T07:19:35.712022Z",
     "start_time": "2024-10-11T07:19:35.569112Z"
    },
    "colab": {
     "base_uri": "https://localhost:8080/",
     "height": 338
    },
    "executionInfo": {
     "elapsed": 685,
     "status": "ok",
     "timestamp": 1731422296595,
     "user": {
      "displayName": "Jinwoo Lee",
      "userId": "12336114295707154907"
     },
     "user_tz": -540
    },
    "id": "QgkxTHmuwuKq",
    "outputId": "10198b65-f8f2-4df7-e70c-c5aa2e133dce"
   },
   "outputs": [],
   "source": [
    "plt.imshow(image, origin=\"lower\")\n",
    "plt.show()"
   ]
  },
  {
   "cell_type": "code",
   "execution_count": 18,
   "metadata": {
    "id": "nH9EpXOd0rbz"
   },
   "outputs": [],
   "source": [
    "class Camera:\n",
    "    def __init__(\n",
    "            self,\n",
    "            aspect_ratio: float = 1.0, \n",
    "            image_width: int = 100,             \n",
    "            num_sample_per_pixel: int = 50,\n",
    "            max_depth: int = 5,\n",
    "            vfov: float = 90.0,\n",
    "            lookfrom: np.array = np.array([0.0, 0.0, 0.0]),\n",
    "            lookat: np.array = np.array([0.0, 0.0, -1.0]),\n",
    "            vup: np.array = np.array([0.0, 1.0, 0.0]),            \n",
    "\n",
    "        ) -> None:\n",
    "\n",
    "        self.aspect_ratio = aspect_ratio\n",
    "        self.image_width = image_width        \n",
    "        self.vfov = vfov\n",
    "        self.num_sample_per_pixel = num_sample_per_pixel\n",
    "        self.max_depth = max_depth\n",
    "        self.lookfrom = lookfrom\n",
    "        self.lookat = lookat\n",
    "        self.vup = vup\n",
    "\n",
    "    def _prepare(self):\n",
    "        self.image_height = int(self.image_width / self.aspect_ratio)\n",
    "        self.image_height = 1 if (self.image_height < 1) else self.image_height\n",
    "\n",
    "        self.center = self.lookfrom\n",
    "\n",
    "        focal_length = LA.norm(self.lookfrom - self.lookat)\n",
    "        theta = np.radians(self.vfov)\n",
    "        h = np.tan(theta / 2.0)\n",
    "        viewport_height = 2.0 * h * focal_length\n",
    "        viewport_width = self.aspect_ratio * viewport_height\n",
    "\n",
    "        w = normalize(self.lookfrom - self.lookat)\n",
    "        u = normalize(np.cross(self.vup, w))\n",
    "        v = np.cross(w, u)\n",
    "\n",
    "        self.horizontal_vec = viewport_width * u\n",
    "        self.vertical_vec = viewport_height * v\n",
    "        self.frontal_vec = focal_length * w\n",
    "        self.lower_left_corner = (\n",
    "            self.center\n",
    "            - self.horizontal_vec / 2.0\n",
    "            - self.vertical_vec / 2.0\n",
    "            - self.frontal_vec\n",
    "        )\n",
    "\n",
    "        self.pixel_delta_u = self.horizontal_vec / self.image_width\n",
    "        self.pixel_delta_v = self.vertical_vec / self.image_height\n",
    "\n",
    "    def _get_ray(self, u: float, v: float) -> Ray:\n",
    "        return Ray(\n",
    "            origin=self.center,\n",
    "            direction=(\n",
    "                self.lower_left_corner + u * self.pixel_delta_u + v * self.pixel_delta_v\n",
    "            )\n",
    "            - self.center,\n",
    "        )\n",
    "    \n",
    "    def render(self, world: HittableList) -> np.ndarray:\n",
    "        self._prepare()\n",
    "        \n",
    "        image = np.zeros([self.image_height, self.image_width, 3])\n",
    "\n",
    "        for row in tqdm(range(self.image_height)):\n",
    "            for col in range(self.image_width):\n",
    "                for _ in range(self.num_sample_per_pixel):\n",
    "                    u = col + np.random.uniform(low=0.0, high=1.0)\n",
    "                    v = row + np.random.uniform(low=0.0, high=1.0)\n",
    "                    ray = self._get_ray(u, v)\n",
    "                    image[row, col] += ray_color(ray=ray, world=world, depth=self.max_depth)\n",
    "\n",
    "        image = scale_color(image, num_sample_per_pixel=self.num_sample_per_pixel)\n",
    "        image = linear_to_gamma(image)\n",
    "        return image        "
   ]
  },
  {
   "cell_type": "code",
   "execution_count": 19,
   "metadata": {},
   "outputs": [],
   "source": [
    "# material\n",
    "material_ground = Lambertian(np.array([0.8, 0.8, 0.0]))\n",
    "material_center = Lambertian(np.array([0.1, 0.2, 0.5]))\n",
    "material_left = Dielectric(1.5)\n",
    "material_bubble = Dielectric(1.0 / 1.5)\n",
    "material_right = Metal(np.array([0.8, 0.6, 0.2]), 1.0)\n",
    "\n",
    "# world\n",
    "world = HittableList()\n",
    "world.add(Sphere(center=np.array([0.0, -100.5, -1.0]), radius=100.0, material=material_ground))\n",
    "world.add(Sphere(center=np.array([0.0, 0.0, -1.2]), radius=0.5, material=material_center))\n",
    "world.add(Sphere(center=np.array([-1.0, 0.0, -1.0]), radius=0.5, material=material_left))\n",
    "world.add(Sphere(center=np.array([-1.0, 0.0, -1.0]), radius=0.4, material=material_bubble))\n",
    "world.add(Sphere(center=np.array([ 1.0, 0.0, -1.0]), radius=0.5, material=material_right))"
   ]
  },
  {
   "cell_type": "code",
   "execution_count": 20,
   "metadata": {},
   "outputs": [],
   "source": [
    "# camera\n",
    "camera = Camera(\n",
    "    aspect_ratio=16.0/9.0, \n",
    "    image_width=100, \n",
    "    num_sample_per_pixel=50,\n",
    "    max_depth=5,\n",
    "    vfov=90.0,  # vertical view angle (field of view)    \n",
    ")"
   ]
  },
  {
   "cell_type": "code",
   "execution_count": 21,
   "metadata": {},
   "outputs": [],
   "source": [
    "camera.lookfrom = np.array([-2, 2, 1])\n",
    "camera.lookat = np.array([0, 0, -1])\n",
    "camera.vup = np.array([0, 1, 0])"
   ]
  },
  {
   "cell_type": "code",
   "execution_count": null,
   "metadata": {},
   "outputs": [],
   "source": [
    "image = camera.render(world)\n",
    "\n",
    "plt.imshow(image, origin=\"lower\")\n",
    "plt.show()"
   ]
  },
  {
   "cell_type": "code",
   "execution_count": 23,
   "metadata": {},
   "outputs": [],
   "source": [
    "camera.vfov = 20"
   ]
  },
  {
   "cell_type": "code",
   "execution_count": null,
   "metadata": {},
   "outputs": [],
   "source": [
    "image = camera.render(world)\n",
    "\n",
    "plt.imshow(image, origin=\"lower\")\n",
    "plt.show()"
   ]
  },
  {
   "cell_type": "code",
   "execution_count": null,
   "metadata": {},
   "outputs": [],
   "source": []
  }
 ],
 "metadata": {
  "colab": {
   "provenance": []
  },
  "kernelspec": {
   "display_name": "cg",
   "language": "python",
   "name": "python3"
  },
  "language_info": {
   "codemirror_mode": {
    "name": "ipython",
    "version": 3
   },
   "file_extension": ".py",
   "mimetype": "text/x-python",
   "name": "python",
   "nbconvert_exporter": "python",
   "pygments_lexer": "ipython3",
   "version": "3.11.11"
  },
  "orig_nbformat": 4
 },
 "nbformat": 4,
 "nbformat_minor": 0
}
